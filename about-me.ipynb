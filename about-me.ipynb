{
 "cells": [
  {
   "cell_type": "markdown",
   "metadata": {},
   "source": [
    "## About Me Lab: AI Engineering, Data Analytics & Data Science\n",
    "\n",
    "In this notebook, you'll write a short introduction about yourself using Python!\n",
    "\n",
    "### Instructions:\n",
    "- Fill in the variables below with your details.\n",
    "- Run the cell to print your introduction.\n",
    "\n",
    "### What to Include:\n",
    "- Your name.\n",
    "- Why you're interested in AI Engineering, Data Analytics or Data Science.\n",
    "- A fun fact about yourself or a goal for this course.\n"
   ]
  },
  {
   "cell_type": "code",
   "execution_count": 9,
   "metadata": {},
   "outputs": [
    {
     "name": "stdout",
     "output_type": "stream",
     "text": [
      "Hi! My name is Dr. rer. nat. Priyadharshini Arunachalam. I’m excited to learn because I am very much interested in AI, for its advancements in science may be I will develope something for the research world. A fun fact about me is: One fun fact about me is I Do indian classic dance, i danced for Science magazine called dance your PhD with PhD thesis theme in 2017,i cook from sctarch, I organise many gettogether  or my goal for this course is to learn Ml to impelement in Microscpic and imaging industry.\n"
     ]
    }
   ],
   "source": [
    "# About Me\n",
    "# Please fill in the following details.\n",
    "\n",
    "name = \"Dr. rer. nat. Priyadharshini Arunachalam\"\n",
    "reason = \"I am very much interested in AI, for its advancements in science may be I will develope something for the research world\"\n",
    "fun_fact = \"One fun fact about me is I Do indian classic dance, i danced for Science magazine called dance your PhD with PhD thesis theme in 2017,i cook from sctarch, I organise many gettogether \" \\\n",
    "\" or my goal for this course is to learn Ml to impelement in Microscpic and imaging industry\"\n",
    "\n",
    "print(f\"Hi! My name is {name}. I’m excited to learn because {reason}. A fun fact about me is: {fun_fact}.\")"
   ]
  }
 ],
 "metadata": {
  "kernelspec": {
   "display_name": "Python 3",
   "language": "python",
   "name": "python3"
  },
  "language_info": {
   "codemirror_mode": {
    "name": "ipython",
    "version": 3
   },
   "file_extension": ".py",
   "mimetype": "text/x-python",
   "name": "python",
   "nbconvert_exporter": "python",
   "pygments_lexer": "ipython3",
   "version": "3.9.6"
  }
 },
 "nbformat": 4,
 "nbformat_minor": 2
}
